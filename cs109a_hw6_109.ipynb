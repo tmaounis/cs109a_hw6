{
 "cells": [
  {
   "cell_type": "markdown",
   "metadata": {},
   "source": [
    "# <img style=\"float: left; padding-right: 10px; width: 45px\" src=\"https://raw.githubusercontent.com/Harvard-IACS/2018-CS109A/master/content/styles/iacs.png\"> CS109A Introduction to Data Science \n",
    "\n",
    "\n",
    "\n",
    "## Homework 6: Multilayer Feedforward Network - Dealing with Missing Data\n",
    "\n",
    "\n",
    "**Harvard University**<br/>\n",
    "**Fall 2018**<br/>\n",
    "**Instructors**: Pavlos Protopapas, Kevin Rader\n",
    "\n",
    "<hr style=\"height:2pt\">"
   ]
  },
  {
   "cell_type": "code",
   "execution_count": 1,
   "metadata": {},
   "outputs": [
    {
     "data": {
      "text/html": [
       "<style>\n",
       "h1 { \n",
       "    padding-top: 25px;\n",
       "    padding-bottom: 25px;\n",
       "    text-align: left; \n",
       "    padding-left: 10px;\n",
       "    background-color: #DDDDDD; \n",
       "    color: black;\n",
       "}\n",
       "h2 { \n",
       "    padding-top: 10px;\n",
       "    padding-bottom: 10px;\n",
       "    text-align: left; \n",
       "    padding-left: 5px;\n",
       "    background-color: #EEEEEE; \n",
       "    color: black;\n",
       "}\n",
       "\n",
       "div.exercise {\n",
       "\tbackground-color: #ffcccc;\n",
       "\tborder-color: #E9967A; \t\n",
       "\tborder-left: 5px solid #800080; \n",
       "\tpadding: 0.5em;\n",
       "}\n",
       "div.theme {\n",
       "\tbackground-color: #DDDDDD;\n",
       "\tborder-color: #E9967A; \t\n",
       "\tborder-left: 5px solid #800080; \n",
       "\tpadding: 0.5em;\n",
       "\tfont-size: 18pt;\n",
       "}\n",
       "p.q1 { \n",
       "    padding-top: 5px;\n",
       "    padding-bottom: 5px;\n",
       "    text-align: left; \n",
       "    padding-left: 5px;\n",
       "    background-color: #EEEEEE; \n",
       "    color: black;\n",
       "}\n",
       "header {\n",
       "   padding-top: 35px;\n",
       "    padding-bottom: 35px;\n",
       "    text-align: left; \n",
       "    padding-left: 10px;\n",
       "    background-color: #DDDDDD; \n",
       "    color: black;\n",
       "}\n",
       "</style>\n",
       "\n"
      ],
      "text/plain": [
       "<IPython.core.display.HTML object>"
      ]
     },
     "execution_count": 1,
     "metadata": {},
     "output_type": "execute_result"
    }
   ],
   "source": [
    "#RUN THIS CELL \n",
    "import requests\n",
    "from IPython.core.display import HTML\n",
    "styles = requests.get(\"https://raw.githubusercontent.com/Harvard-IACS/2018-CS109A/master/content/styles/cs109.css\").text\n",
    "HTML(styles)"
   ]
  },
  {
   "cell_type": "markdown",
   "metadata": {},
   "source": [
    "### INSTRUCTIONS\n",
    "\n",
    "- To submit your assignment follow the [instructions given in canvas](https://canvas.harvard.edu/courses/42693/pages/homework-policies-and-submission-instructions).\n",
    "\n",
    "- This homework can be submitted in pairs.\n",
    "\n",
    "- If you submit individually but you have worked with someone, please include the name of your **one** partner below. \n",
    "\n",
    "\n",
    "**Names of person you have worked with goes here:**\n",
    "<br><BR>"
   ]
  },
  {
   "cell_type": "code",
   "execution_count": 516,
   "metadata": {},
   "outputs": [],
   "source": [
    "%matplotlib inline\n",
    "import numpy as np\n",
    "import numpy.random as nd\n",
    "import pandas as pd\n",
    "import math\n",
    "import matplotlib.pyplot as plt\n",
    "\n",
    "import os\n",
    "import seaborn as sns\n",
    "sns.set(style=\"darkgrid\")\n",
    "\n",
    "from sklearn.linear_model import LogisticRegressionCV\n",
    "from sklearn.linear_model import LinearRegression\n",
    "from sklearn.model_selection import cross_val_score\n",
    "from sklearn.metrics import accuracy_score\n",
    "from sklearn.metrics import confusion_matrix\n",
    "from sklearn.preprocessing import Imputer\n",
    "from sklearn.preprocessing import MinMaxScaler\n",
    "from sklearn.metrics import mean_squared_error\n",
    "from sklearn.model_selection import train_test_split\n",
    "from IPython.display import display"
   ]
  },
  {
   "cell_type": "markdown",
   "metadata": {},
   "source": [
    "<div class=\"theme\"> Overview </div>\n",
    "\n",
    "In this homework, you are free to explore different ways of solving the problems -within the restrictions of the questions. Your solutions should read like a report with figures to support your statements. Please include your code cells as usual but augment your solutions with written answers. We will also check for code readability and efficiency as we feel you have some experience now. In particular, for Q1, we expect you to write appropriate functions, such as your code can be generalized beyond the specified network architectures of his homework.\n",
    "\n",
    "For this homework you may **not** use a machine learning library such as `keras` or `tensorflow` to build and fit the network. The objective is to build the network equations from scratch.\n",
    "\n",
    "- Q1 explores approximating a function using a **Multilayer Feedforward Network** with one input layer, one hidden layer, and one output layer. \n",
    "\n",
    "- Q2 deals with missing data in a medical dataset."
   ]
  },
  {
   "cell_type": "markdown",
   "metadata": {},
   "source": [
    "<div class=\"exercise\"> <b> Question 1: Construct a feed forward neural network [50 pts]</b> </div>\n",
    "    \n",
    "In this part of the homework you are to construct three feed forward neural networks consisting of an input layer, one hidden layer with 1, 2 and 4 nodes respectively, and an output layer.  The hidden layer uses the sigmoid as the activation function and use a linear  output node. \n",
    "You should code the equations from scratch. \n",
    "\n",
    "You are given three datasets containing ($x,y$) points where $y=f(x)$:\n",
    "\n",
    "- In the first dataset, $f(x)$ is a **single step** function (data in`data/step_df.csv`), \n",
    "- In the second dataset, $f(x)$ is a **one hump** function (data in `data/one_hump_df.csv`),\n",
    "- In the third dataset, $f(x)$ is a **two equal humps** function (data in `data/two_hump_df.csv`).\n",
    "\n",
    "**1.1** Create a plot of each dataset and explore the structure of the data. \n",
    "\n",
    "**1.2**  Give values to the weights **manually**, perform a forward pass using the data for the **single step** function and a hidden layer of **one** node, and plot the output from the network, in the same plot as the true $y$ values. Adjust the weigths (again manualy) until the plots match as closely as possible.\n",
    "\n",
    "**1.3** Do the same for the **one hump** function data, this time using a hidden layer consisting of **two** nodes.\n",
    "\n",
    "**1.4** Do the same for the **two hump** function data but this time increase the number of hidden nodes to **four**.  \n",
    "\n",
    "**1.5** Choose the appropriate loss function and calculate and report the loss from all three cases. Derive the gradient of the output layer's weights for all three cases (step, one hump and two humps). Use the weights for the hidden layers you found in the previous question and perform gradient descent on the weights of this layer (output layer). What is the optimised weight value and loss you obtained? How many steps did you take to reach this value? What is the threshold value you used to stop? "
   ]
  },
  {
   "cell_type": "markdown",
   "metadata": {},
   "source": [
    "### Answers"
   ]
  },
  {
   "cell_type": "markdown",
   "metadata": {},
   "source": [
    "**1.1** "
   ]
  },
  {
   "cell_type": "code",
   "execution_count": 4,
   "metadata": {},
   "outputs": [],
   "source": [
    "step_df = pd.read_csv('data/step_df.csv')\n",
    "one_hump_df = pd.read_csv('data/one_hump_df.csv')\n",
    "two_hump_df = pd.read_csv('data/two_hump_df.csv')"
   ]
  },
  {
   "cell_type": "code",
   "execution_count": 16,
   "metadata": {},
   "outputs": [],
   "source": [
    "step_df = step_df.sort_values([\"x\"])\n",
    "one_hump_df = one_hump_df.sort_values([\"x\"])\n",
    "two_hump_df = two_hump_df.sort_values([\"x\"])"
   ]
  },
  {
   "cell_type": "code",
   "execution_count": 23,
   "metadata": {},
   "outputs": [
    {
     "data": {
      "text/plain": [
       "<matplotlib.legend.Legend at 0x1a2329f390>"
      ]
     },
     "execution_count": 23,
     "metadata": {},
     "output_type": "execute_result"
    },
    {
     "data": {
      "image/png": "[encoded data removed]",
      "text/plain": [
       "<Figure size 1440x576 with 1 Axes>"
      ]
     },
     "metadata": {},
     "output_type": "display_data"
    }
   ],
   "source": [
    "plt.figure(figsize=(20,8))\n",
    "plt.title(\"$y=f(x)$\", fontsize=16)\n",
    "plt.xlabel(\"$x$\")\n",
    "plt.ylabel(\"$y$\")\n",
    "plt.plot(step_df['x'], step_df['y'], label=\"Step\")\n",
    "plt.plot(one_hump_df['x'], one_hump_df['y'], label=\"One Hump\")\n",
    "plt.plot(two_hump_df['x'], two_hump_df['y'], label=\"Two Hump\")\n",
    "plt.legend()"
   ]
  },
  {
   "cell_type": "code",
   "execution_count": 52,
   "metadata": {},
   "outputs": [],
   "source": [
    "def plot_dfs(df_list,labels,axes2d=None,axes_list=None):\n",
    "    if axes_list is None:\n",
    "        axes_list=[]\n",
    "        for ax in axes2d:\n",
    "            for a in ax:\n",
    "                axes_list.append(a)\n",
    "    for ctr, df in enumerate(df_list, 0):\n",
    "        axes_list[ctr].set_title(labels[ctr], fontsize=12)\n",
    "        axes_list[ctr].set_xlabel(\"$x$\")\n",
    "        axes_list[ctr].set_ylabel(\"$y$\")\n",
    "        axes_list[ctr].plot(df['x'],df['y'],\"o-\")"
   ]
  },
  {
   "cell_type": "code",
   "execution_count": 53,
   "metadata": {},
   "outputs": [
    {
     "data": {
      "image/png": "[encoded data removed]",
      "text/plain": [
       "<Figure size 1440x432 with 3 Axes>"
      ]
     },
     "metadata": {},
     "output_type": "display_data"
    }
   ],
   "source": [
    "fig, axes = plt.subplots(1,3,figsize=(20,6))\n",
    "fig.suptitle(\"$y=f(x)$\", fontsize=18)\n",
    "plot_dfs([step_df,one_hump_df,two_hump_df],[\"Step\",\"One Hump\",\"Two Hump\"],axes_list=axes)"
   ]
  },
  {
   "cell_type": "code",
   "execution_count": 447,
   "metadata": {},
   "outputs": [
    {
     "name": "stdout",
     "output_type": "stream",
     "text": [
      "                x           y\n",
      "count  100.000000  100.000000\n",
      "mean     1.517285    0.431821\n",
      "std      4.073068    0.494968\n",
      "min     -4.861848   -0.002845\n",
      "25%     -2.009176   -0.000263\n",
      "50%      0.541288    0.001747\n",
      "75%      5.247584    0.999669\n",
      "max      8.805071    1.002055\n",
      "                x           y\n",
      "count  100.000000  100.000000\n",
      "mean     1.711190    0.292614\n",
      "std      3.761073    0.449767\n",
      "min     -4.988312   -0.002792\n",
      "25%     -1.322715   -0.000250\n",
      "50%      1.627919    0.000896\n",
      "75%      4.317727    0.998469\n",
      "max      8.880737    1.002423\n",
      "                x           y\n",
      "count  100.000000  100.000000\n",
      "mean     3.887426    0.179185\n",
      "std      4.927391    0.363343\n",
      "min     -4.937933   -0.001925\n",
      "25%      0.043406   -0.000323\n",
      "50%      3.844823    0.000344\n",
      "75%      8.164301    0.002528\n",
      "max     11.988390    1.000706\n"
     ]
    }
   ],
   "source": [
    "print (step_df.describe())\n",
    "print (one_hump_df.describe())\n",
    "print (two_hump_df.describe())"
   ]
  },
  {
   "cell_type": "markdown",
   "metadata": {},
   "source": [
    "**1.2** "
   ]
  },
  {
   "cell_type": "code",
   "execution_count": 55,
   "metadata": {},
   "outputs": [],
   "source": [
    "def affine(x, w, b):\n",
    "    return w*x+b\n",
    "\n",
    "def sigmoid(x):                                        \n",
    "    return 1 / (1 + np.exp(-x))"
   ]
  },
  {
   "cell_type": "code",
   "execution_count": 509,
   "metadata": {},
   "outputs": [
    {
     "data": {
      "text/plain": [
       "<matplotlib.legend.Legend at 0x1a26283f60>"
      ]
     },
     "execution_count": 509,
     "metadata": {},
     "output_type": "execute_result"
    },
    {
     "data": {
      "image/png": "[encoded data removed]",
      "text/plain": [
       "<Figure size 1440x576 with 1 Axes>"
      ]
     },
     "metadata": {},
     "output_type": "display_data"
    }
   ],
   "source": [
    "def get_y_pred_step(w1, b):\n",
    "    return w1*sigmoid(affine(step_df[\"x\"],20,-40)) + b\n",
    "\n",
    "step_weights_guess = [1,0]\n",
    "y_pred_step = get_y_pred_step(*step_weights_guess)\n",
    "\n",
    "plt.figure(figsize=(20,8))\n",
    "plt.title(\"True vs Manual Weight Prediction on Step Function\", fontsize=20)\n",
    "plt.plot(step_df['x'],y_pred_step, label=\"Predicted Values\", marker=\"o\")\n",
    "plt.plot(step_df['x'],step_df['y'], label=\"True Values\", marker=\"v\")\n",
    "plt.xlabel(\"$x$\", fontsize=16)\n",
    "plt.ylabel(\"$y$\", fontsize=16)\n",
    "plt.legend(fontsize=16)"
   ]
  },
  {
   "cell_type": "code",
   "execution_count": 448,
   "metadata": {},
   "outputs": [
    {
     "data": {
      "text/html": [
       "<div>\n",
       "<style scoped>\n",
       "    .dataframe tbody tr th:only-of-type {\n",
       "        vertical-align: middle;\n",
       "    }\n",
       "\n",
       "    .dataframe tbody tr th {\n",
       "        vertical-align: top;\n",
       "    }\n",
       "\n",
       "    .dataframe thead th {\n",
       "        text-align: right;\n",
       "    }\n",
       "</style>\n",
       "<table border=\"1\" class=\"dataframe\">\n",
       "  <thead>\n",
       "    <tr style=\"text-align: right;\">\n",
       "      <th></th>\n",
       "      <th>real-y</th>\n",
       "      <th>predicted y</th>\n",
       "    </tr>\n",
       "  </thead>\n",
       "  <tbody>\n",
       "    <tr>\n",
       "      <th>count</th>\n",
       "      <td>100.000000</td>\n",
       "      <td>1.000000e+02</td>\n",
       "    </tr>\n",
       "    <tr>\n",
       "      <th>mean</th>\n",
       "      <td>0.431821</td>\n",
       "      <td>4.318463e-01</td>\n",
       "    </tr>\n",
       "    <tr>\n",
       "      <th>std</th>\n",
       "      <td>0.494968</td>\n",
       "      <td>4.949478e-01</td>\n",
       "    </tr>\n",
       "    <tr>\n",
       "      <th>min</th>\n",
       "      <td>-0.002845</td>\n",
       "      <td>2.504651e-60</td>\n",
       "    </tr>\n",
       "    <tr>\n",
       "      <th>25%</th>\n",
       "      <td>-0.000263</td>\n",
       "      <td>1.522668e-35</td>\n",
       "    </tr>\n",
       "    <tr>\n",
       "      <th>50%</th>\n",
       "      <td>0.001747</td>\n",
       "      <td>3.100510e-13</td>\n",
       "    </tr>\n",
       "    <tr>\n",
       "      <th>75%</th>\n",
       "      <td>0.999669</td>\n",
       "      <td>1.000000e+00</td>\n",
       "    </tr>\n",
       "    <tr>\n",
       "      <th>max</th>\n",
       "      <td>1.002055</td>\n",
       "      <td>1.000000e+00</td>\n",
       "    </tr>\n",
       "  </tbody>\n",
       "</table>\n",
       "</div>"
      ],
      "text/plain": [
       "           real-y   predicted y\n",
       "count  100.000000  1.000000e+02\n",
       "mean     0.431821  4.318463e-01\n",
       "std      0.494968  4.949478e-01\n",
       "min     -0.002845  2.504651e-60\n",
       "25%     -0.000263  1.522668e-35\n",
       "50%      0.001747  3.100510e-13\n",
       "75%      0.999669  1.000000e+00\n",
       "max      1.002055  1.000000e+00"
      ]
     },
     "execution_count": 448,
     "metadata": {},
     "output_type": "execute_result"
    }
   ],
   "source": [
    "side_by_side = pd.concat([step_df['y'], y_pred_step],axis=1)\n",
    "side_by_side = side_by_side.rename (columns={'y': 'real-y', 'x': 'predicted y'})\n",
    "side_by_side.describe() "
   ]
  },
  {
   "cell_type": "markdown",
   "metadata": {},
   "source": [
    "The predicted y-values for the manually optimized w and b values are close to the real values. However, they cannot exceed the [0,1] range."
   ]
  },
  {
   "cell_type": "markdown",
   "metadata": {},
   "source": [
    "**1.3** "
   ]
  },
  {
   "cell_type": "code",
   "execution_count": 504,
   "metadata": {},
   "outputs": [
    {
     "data": {
      "text/plain": [
       "<matplotlib.legend.Legend at 0x1a25ca4be0>"
      ]
     },
     "execution_count": 504,
     "metadata": {},
     "output_type": "execute_result"
    },
    {
     "data": {
      "image/png": "[encoded data removed]",
      "text/plain": [
       "<Figure size 1440x576 with 1 Axes>"
      ]
     },
     "metadata": {},
     "output_type": "display_data"
    }
   ],
   "source": [
    "def get_y_pred_one(w1, w2, b):\n",
    "    return w1*sigmoid(affine(one_hump_df[\"x\"],20,-40))+w2*sigmoid(affine(one_hump_df[\"x\"],-20,120)) + b\n",
    "\n",
    "one_weights_guess = [1,1,-1]\n",
    "y_pred_one = get_y_pred_one(*one_weights_guess)\n",
    "\n",
    "plt.figure(figsize=(20,8))\n",
    "plt.title(\"True vs Manual Weight Prediction on One Hump Function\", fontsize=20)\n",
    "plt.plot(one_hump_df['x'],y_pred_one, label=\"Predicted Values\", marker=\"o\")\n",
    "plt.plot(one_hump_df['x'],one_hump_df['y'], label=\"True Values\", marker=\"v\")\n",
    "plt.xlabel(\"$x$\", fontsize=16)\n",
    "plt.ylabel(\"$y$\", fontsize=16)\n",
    "plt.legend(fontsize=16)"
   ]
  },
  {
   "cell_type": "markdown",
   "metadata": {},
   "source": [
    "**1.4**"
   ]
  },
  {
   "cell_type": "code",
   "execution_count": 503,
   "metadata": {},
   "outputs": [
    {
     "data": {
      "text/plain": [
       "<matplotlib.legend.Legend at 0x1a25a67e48>"
      ]
     },
     "execution_count": 503,
     "metadata": {},
     "output_type": "execute_result"
    },
    {
     "data": {
      "image/png": "[encoded data removed]",
      "text/plain": [
       "<Figure size 1440x576 with 1 Axes>"
      ]
     },
     "metadata": {},
     "output_type": "display_data"
    }
   ],
   "source": [
    "def get_y_pred_two(w1, w2, w3, w4, b):\n",
    "    return w1*sigmoid(affine(two_hump_df[\"x\"],20,-20)) + \\\n",
    "        w2*sigmoid(affine(two_hump_df[\"x\"],-20,60)) + \\\n",
    "        w3*sigmoid(affine(two_hump_df[\"x\"],20,-100))+ \\\n",
    "        w4*sigmoid(affine(two_hump_df[\"x\"],-20,140))+ b\n",
    "\n",
    "two_weights_guess = [1,1,1,1,-2]\n",
    "y_pred_two = get_y_pred_two(*two_weights_guess)\n",
    "\n",
    "plt.figure(figsize=(20,8))\n",
    "plt.title(\"True vs Manual Weight Predicted on Two Hump Function\", fontsize=20)\n",
    "plt.plot(two_hump_df['x'],y_pred_two, label=\"Predicted Values\", marker=\"o\")\n",
    "plt.plot(two_hump_df['x'],two_hump_df['y'], label=\"True Values\", marker=\"v\")\n",
    "plt.xlabel(\"$x$\", fontsize=16)\n",
    "plt.ylabel(\"$y$\", fontsize=16)\n",
    "plt.legend(fontsize=16)"
   ]
  },
  {
   "cell_type": "markdown",
   "metadata": {},
   "source": [
    "**1.5** Choose the appropriate loss function and calculate and report the loss from all three cases. Derive the gradient of the output layer's weights for all three cases (step, one hump and two humps). Use the weights for the hidden layers you found in the previous question and perform gradient descent on the weights of this layer (output layer). What is the optimised weight value and loss you obtained? How many steps did you take to reach this value? What is the threshold value you used to stop?"
   ]
  },
  {
   "cell_type": "code",
   "execution_count": 498,
   "metadata": {},
   "outputs": [
    {
     "name": "stdout",
     "output_type": "stream",
     "text": [
      "The loss on the step function is 0.000001410355\n",
      "The loss on the one hump function is 0.000001173662\n",
      "The loss on the two hump function is 0.000000803153\n"
     ]
    }
   ],
   "source": [
    "print(\"The loss on the step function is %.12f\"\n",
    "      %mean_squared_error(step_df['y'],y_pred_step))\n",
    "print(\"The loss on the one hump function is %.12f\"\n",
    "      %mean_squared_error(one_hump_df['y'],y_pred_one))\n",
    "print(\"The loss on the two hump function is %.12f\"\n",
    "      %mean_squared_error(two_hump_df['y'],y_pred_two))"
   ]
  },
  {
   "cell_type": "markdown",
   "metadata": {},
   "source": [
    "Because this is not strict classification, using mean squared error is appropriate. "
   ]
  },
  {
   "cell_type": "code",
   "execution_count": 158,
   "metadata": {},
   "outputs": [],
   "source": [
    "#More code to write.................\n",
    "\n",
    "# Section 6 Performance of NN/Gradienty decent has sample code to minimize a function\n",
    "# I understand we only optimize the w for the output function, not the input function\n",
    "# Lecture 12 slides 23 an onward explain how to get the derivative of the loss function, but that is where I got stuck\n",
    "# I couldnt find sample code where they minimize the loss function\n",
    "# also didnt get why they ask for the gradient of the output layer's weights, because aren't we supposed to minimize\n",
    "# the loss function and dont we need its gradient?"
   ]
  },
  {
   "cell_type": "code",
   "execution_count": 479,
   "metadata": {},
   "outputs": [
    {
     "data": {
      "text/plain": [
       "array([2, 3, 4])"
      ]
     },
     "execution_count": 479,
     "metadata": {},
     "output_type": "execute_result"
    }
   ],
   "source": [
    "a1 = np.array([1,2,3])\n",
    "a2 = np.array([2,3,4])\n",
    "a1+1"
   ]
  },
  {
   "cell_type": "code",
   "execution_count": 496,
   "metadata": {},
   "outputs": [],
   "source": [
    "#So if MSE doesnt improve stop??\n",
    "#TF recommends running without threshold, plotting change in MSEs, and then deciding a good threshold from that\n",
    "\n",
    "#not necessarily right, should not have delta or something\n",
    "def get_new_weights(old_weights, learning, delta, y_function, y_true):\n",
    "    y_old_pred = y_function(*old_weights)\n",
    "    mse_old = mean_squared_error(y_true, y_old_pred)\n",
    "    \n",
    "    weights_delta = old_weights+delta\n",
    "    y_delta_pred = y_function(*weights_delta)\n",
    "    mse_delta = mean_squared_error(y_true, y_delta_pred)\n",
    "    \n",
    "    change = learning*((mse_delta - mse_old)/delta)\n",
    "    \n",
    "    return old_weights - change #new weights \n",
    "    \n",
    "\n",
    "threshold = 0.0000001 #difference in MSE \n",
    "learn = 0.01 #learning rate\n",
    "delta = 0.1\n",
    "iters = 0  \n",
    "max_iters = 1000\n",
    "    \n",
    "while iters < max_iter:\n",
    "    iters+=1"
   ]
  },
  {
   "cell_type": "code",
   "execution_count": 497,
   "metadata": {},
   "outputs": [
    {
     "name": "stdout",
     "output_type": "stream",
     "text": [
      "The loss on the two hump function is 0.000000802657\n"
     ]
    }
   ],
   "source": [
    "new_w = get_new_weights(np.array(two_weights_guess), learn, delta, get_y_pred_two, two_hump_df['y'])\n",
    "print(\"The loss on the two hump function is %.12f\"\n",
    "      %mean_squared_error(two_hump_df['y'],get_y_pred_two(*new_w)))"
   ]
  },
  {
   "cell_type": "markdown",
   "metadata": {},
   "source": [
    "#Always subtract????\n",
    "new weights = old weights - learningRate( (MSE(oldweights+delta) - MSE(oldweights))/delta )"
   ]
  },
  {
   "cell_type": "markdown",
   "metadata": {},
   "source": [
    "<div class=\"exercise\"> <b> Question 2: Working with missing data. [50 pts]</b> </div>\n",
    "\n",
    "In this exercise we are going to use the **Pima Indians onset of diabetes** dataset found in `pima-indians-diabetes.csv`. This dataset describes patient medical record data for Pima Indians and whether they had an onset of diabetes within five years. It is a binary classification problem (onset of diabetes as 1 or not as 0). The input variables that describe each patient are numerical and have varying scales. The list below shows the eight attributes plus the target variable for the dataset:\n",
    "\n",
    "- Number of times pregnant.\n",
    "- Plasma glucose concentration a 2 hours in an oral glucose tolerance test.\n",
    "- Diastolic blood pressure (mm Hg).\n",
    "- Triceps skin fold thickness (mm).\n",
    "- 2-Hour serum insulin (mu U/ml).\n",
    "-  Body mass index.\n",
    "-  Diabetes pedigree function.\n",
    "- Age (years).<br>\n",
    "- **Outcome** (1 for early onset of diabetes within five years, 0 for not), target class.\n",
    "\n",
    "**2.1**. Load the dataset into a pandas dataframe named `pima_df`. Clean the data by looking at the various features and making sure that their values make sense. Look for missing data including disguised missing data. The problem of disguised missing data arises when missing data values are not explicitly represented as such, but are coded with values that can be misinterpreted as valid data. Comment on your findings.\n",
    "\n",
    "**2.2** Split the dataset into a 75-25 train-test split (use `random_state=9001`). Fit a logistic regression classifier to the training set and report the  accuracy of the classifier on the test set. You should use $L_2$ regularization in logistic regression, with the regularization parameter tuned using cross-validation (`LogisticRegressionCV`).  Report the overall classification rate.\n",
    "\n",
    "**2.3** Restart with a fresh copy of the whole dataset and impute the missing data via mean imputation.  Split the data 75-25 (use `random_state=9001`) and fit a regularized logistic regression model.  Report the overall classification rate.  \n",
    "\n",
    "**2.4** Again restart with a fresh copy of the whole dataset and impute the missing data via a model-based imputation method. Once again split the data 75-25 (same `random_state=9001`) and fit a regularized logistic regression model.  Report the overall classification rate.\n",
    "\n",
    "**2.5** Compare the results in the 3 previous parts of this problem.  Prepare a paragraph (5-6 sentences) discussing the results, the computational complexity of the methods,  and explain why you get the results that you see.\n",
    "\n",
    "**2.6** This question does not have one answer and requires some experimentation. Check which coefficients changed the most between the model in 2.1-2.2 and the models in 2.3 and 2.4. Are they the coefficients you expected to change given the imputation you performed? If not explain why (supporting your explanation using the data is always a good idea).\n"
   ]
  },
  {
   "cell_type": "markdown",
   "metadata": {},
   "source": [
    "### Answers"
   ]
  },
  {
   "cell_type": "markdown",
   "metadata": {},
   "source": [
    "**2.1** "
   ]
  },
  {
   "cell_type": "code",
   "execution_count": 455,
   "metadata": {},
   "outputs": [
    {
     "data": {
      "text/html": [
       "<div>\n",
       "<style scoped>\n",
       "    .dataframe tbody tr th:only-of-type {\n",
       "        vertical-align: middle;\n",
       "    }\n",
       "\n",
       "    .dataframe tbody tr th {\n",
       "        vertical-align: top;\n",
       "    }\n",
       "\n",
       "    .dataframe thead th {\n",
       "        text-align: right;\n",
       "    }\n",
       "</style>\n",
       "<table border=\"1\" class=\"dataframe\">\n",
       "  <thead>\n",
       "    <tr style=\"text-align: right;\">\n",
       "      <th></th>\n",
       "      <th>Pregnancies</th>\n",
       "      <th>Glucose</th>\n",
       "      <th>BloodPressure</th>\n",
       "      <th>SkinThickness</th>\n",
       "      <th>Insulin</th>\n",
       "      <th>BMI</th>\n",
       "      <th>DiabetesPedigreeFunction</th>\n",
       "      <th>Age</th>\n",
       "      <th>Outcome</th>\n",
       "    </tr>\n",
       "  </thead>\n",
       "  <tbody>\n",
       "    <tr>\n",
       "      <th>0</th>\n",
       "      <td>6</td>\n",
       "      <td>148</td>\n",
       "      <td>72</td>\n",
       "      <td>35</td>\n",
       "      <td>0</td>\n",
       "      <td>33.6</td>\n",
       "      <td>0.627</td>\n",
       "      <td>50</td>\n",
       "      <td>1</td>\n",
       "    </tr>\n",
       "    <tr>\n",
       "      <th>1</th>\n",
       "      <td>1</td>\n",
       "      <td>85</td>\n",
       "      <td>66</td>\n",
       "      <td>29</td>\n",
       "      <td>0</td>\n",
       "      <td>26.6</td>\n",
       "      <td>0.351</td>\n",
       "      <td>31</td>\n",
       "      <td>0</td>\n",
       "    </tr>\n",
       "    <tr>\n",
       "      <th>2</th>\n",
       "      <td>8</td>\n",
       "      <td>183</td>\n",
       "      <td>64</td>\n",
       "      <td>0</td>\n",
       "      <td>0</td>\n",
       "      <td>23.3</td>\n",
       "      <td>0.672</td>\n",
       "      <td>32</td>\n",
       "      <td>1</td>\n",
       "    </tr>\n",
       "    <tr>\n",
       "      <th>3</th>\n",
       "      <td>1</td>\n",
       "      <td>89</td>\n",
       "      <td>66</td>\n",
       "      <td>23</td>\n",
       "      <td>94</td>\n",
       "      <td>28.1</td>\n",
       "      <td>0.167</td>\n",
       "      <td>21</td>\n",
       "      <td>0</td>\n",
       "    </tr>\n",
       "    <tr>\n",
       "      <th>4</th>\n",
       "      <td>0</td>\n",
       "      <td>137</td>\n",
       "      <td>40</td>\n",
       "      <td>35</td>\n",
       "      <td>168</td>\n",
       "      <td>43.1</td>\n",
       "      <td>2.288</td>\n",
       "      <td>33</td>\n",
       "      <td>1</td>\n",
       "    </tr>\n",
       "  </tbody>\n",
       "</table>\n",
       "</div>"
      ],
      "text/plain": [
       "   Pregnancies  Glucose  BloodPressure  SkinThickness  Insulin   BMI  \\\n",
       "0            6      148             72             35        0  33.6   \n",
       "1            1       85             66             29        0  26.6   \n",
       "2            8      183             64              0        0  23.3   \n",
       "3            1       89             66             23       94  28.1   \n",
       "4            0      137             40             35      168  43.1   \n",
       "\n",
       "   DiabetesPedigreeFunction  Age Outcome  \n",
       "0                     0.627   50       1  \n",
       "1                     0.351   31       0  \n",
       "2                     0.672   32       1  \n",
       "3                     0.167   21       0  \n",
       "4                     2.288   33       1  "
      ]
     },
     "execution_count": 455,
     "metadata": {},
     "output_type": "execute_result"
    }
   ],
   "source": [
    "pima_df = pd.read_csv(\"data/pima-indians-diabetes.csv\")\n",
    "pima_df.head()"
   ]
  },
  {
   "cell_type": "code",
   "execution_count": 456,
   "metadata": {},
   "outputs": [],
   "source": [
    "#examine potential missing values\n",
    "#pima_df[pima_df[\"Glucose\"]==0].head()\n",
    "#pima_df[pima_df[\"BloodPressure\"]==0].head()\n",
    "#pima_df[pima_df[\"SkinThickness\"]==0].head()\n",
    "#pima_df[pima_df[\"Insulin\"]==0].head()\n",
    "#pima_df[pima_df[\"BMI\"]==0].head()\n",
    "#pima_df[pima_df[\"DiabetesPedigreeFunction\"]==0].head()\n",
    "#pima_df[pima_df[\"Age\"]==0].head()"
   ]
  },
  {
   "cell_type": "markdown",
   "metadata": {},
   "source": [
    "After examining the dataset we see that 0 is used to mark a missing value. However, because someone can have 0 pregnancies, we recognize that this does not mark a missing value for that feature. For every other feature, a value of 0 is not meaningful and therefore marks a missing value. We see that Glucose, BloodPressure, SkinThickness, Insulin, and BMI have some 0s so we will mark them with NaN on cleaning. DiabetesPedigreeFunction and Age are properly inputted on examination, so we dont have to clean them. The response variable will need some cleaning as well as some values contain erroneous trailing characters and is also not properly casted as an integer."
   ]
  },
  {
   "cell_type": "code",
   "execution_count": 457,
   "metadata": {},
   "outputs": [],
   "source": [
    "def clean_df(df, labels, nan_list, y=None):\n",
    "    #df - dataframe to clean\n",
    "    #labels - columns with \"missing\" data\n",
    "    #nan - list of values that represent missing data\n",
    "    #y - response variable to be cleaned\n",
    "    for l in labels:\n",
    "        for nan in nan_list:\n",
    "            df.loc[df[l] == nan,[l]] = np.nan\n",
    "    if y is not None:\n",
    "        df[y] = df[y].astype(str).str[0] #strip to first character\n",
    "        df[y] = df[y].astype(int) #cast as int\n",
    "    return df"
   ]
  },
  {
   "cell_type": "code",
   "execution_count": 458,
   "metadata": {},
   "outputs": [
    {
     "data": {
      "text/html": [
       "<div>\n",
       "<style scoped>\n",
       "    .dataframe tbody tr th:only-of-type {\n",
       "        vertical-align: middle;\n",
       "    }\n",
       "\n",
       "    .dataframe tbody tr th {\n",
       "        vertical-align: top;\n",
       "    }\n",
       "\n",
       "    .dataframe thead th {\n",
       "        text-align: right;\n",
       "    }\n",
       "</style>\n",
       "<table border=\"1\" class=\"dataframe\">\n",
       "  <thead>\n",
       "    <tr style=\"text-align: right;\">\n",
       "      <th></th>\n",
       "      <th>Pregnancies</th>\n",
       "      <th>Glucose</th>\n",
       "      <th>BloodPressure</th>\n",
       "      <th>SkinThickness</th>\n",
       "      <th>Insulin</th>\n",
       "      <th>BMI</th>\n",
       "      <th>DiabetesPedigreeFunction</th>\n",
       "      <th>Age</th>\n",
       "      <th>Outcome</th>\n",
       "    </tr>\n",
       "  </thead>\n",
       "  <tbody>\n",
       "    <tr>\n",
       "      <th>0</th>\n",
       "      <td>6</td>\n",
       "      <td>148.0</td>\n",
       "      <td>72.0</td>\n",
       "      <td>35.0</td>\n",
       "      <td>NaN</td>\n",
       "      <td>33.6</td>\n",
       "      <td>0.627</td>\n",
       "      <td>50</td>\n",
       "      <td>1</td>\n",
       "    </tr>\n",
       "    <tr>\n",
       "      <th>1</th>\n",
       "      <td>1</td>\n",
       "      <td>85.0</td>\n",
       "      <td>66.0</td>\n",
       "      <td>29.0</td>\n",
       "      <td>NaN</td>\n",
       "      <td>26.6</td>\n",
       "      <td>0.351</td>\n",
       "      <td>31</td>\n",
       "      <td>0</td>\n",
       "    </tr>\n",
       "    <tr>\n",
       "      <th>2</th>\n",
       "      <td>8</td>\n",
       "      <td>183.0</td>\n",
       "      <td>64.0</td>\n",
       "      <td>NaN</td>\n",
       "      <td>NaN</td>\n",
       "      <td>23.3</td>\n",
       "      <td>0.672</td>\n",
       "      <td>32</td>\n",
       "      <td>1</td>\n",
       "    </tr>\n",
       "    <tr>\n",
       "      <th>3</th>\n",
       "      <td>1</td>\n",
       "      <td>89.0</td>\n",
       "      <td>66.0</td>\n",
       "      <td>23.0</td>\n",
       "      <td>94.0</td>\n",
       "      <td>28.1</td>\n",
       "      <td>0.167</td>\n",
       "      <td>21</td>\n",
       "      <td>0</td>\n",
       "    </tr>\n",
       "    <tr>\n",
       "      <th>4</th>\n",
       "      <td>0</td>\n",
       "      <td>137.0</td>\n",
       "      <td>40.0</td>\n",
       "      <td>35.0</td>\n",
       "      <td>168.0</td>\n",
       "      <td>43.1</td>\n",
       "      <td>2.288</td>\n",
       "      <td>33</td>\n",
       "      <td>1</td>\n",
       "    </tr>\n",
       "  </tbody>\n",
       "</table>\n",
       "</div>"
      ],
      "text/plain": [
       "   Pregnancies  Glucose  BloodPressure  SkinThickness  Insulin   BMI  \\\n",
       "0            6    148.0           72.0           35.0      NaN  33.6   \n",
       "1            1     85.0           66.0           29.0      NaN  26.6   \n",
       "2            8    183.0           64.0            NaN      NaN  23.3   \n",
       "3            1     89.0           66.0           23.0     94.0  28.1   \n",
       "4            0    137.0           40.0           35.0    168.0  43.1   \n",
       "\n",
       "   DiabetesPedigreeFunction  Age  Outcome  \n",
       "0                     0.627   50        1  \n",
       "1                     0.351   31        0  \n",
       "2                     0.672   32        1  \n",
       "3                     0.167   21        0  \n",
       "4                     2.288   33        1  "
      ]
     },
     "execution_count": 458,
     "metadata": {},
     "output_type": "execute_result"
    }
   ],
   "source": [
    "pima_nan_df = pima_df.copy()\n",
    "clean_df(pima_nan_df,[\"Glucose\",\"BloodPressure\",\"SkinThickness\",\"Insulin\",\"BMI\"], [0], \"Outcome\")\n",
    "pima_nan_df.head()"
   ]
  },
  {
   "cell_type": "markdown",
   "metadata": {},
   "source": [
    "For 2.2's `LogisticRegressionCV`, we need a dataset that has samples with NaN dropped. This is fine for now as later we will impute these values and run another regression."
   ]
  },
  {
   "cell_type": "code",
   "execution_count": 459,
   "metadata": {},
   "outputs": [
    {
     "data": {
      "text/html": [
       "<div>\n",
       "<style scoped>\n",
       "    .dataframe tbody tr th:only-of-type {\n",
       "        vertical-align: middle;\n",
       "    }\n",
       "\n",
       "    .dataframe tbody tr th {\n",
       "        vertical-align: top;\n",
       "    }\n",
       "\n",
       "    .dataframe thead th {\n",
       "        text-align: right;\n",
       "    }\n",
       "</style>\n",
       "<table border=\"1\" class=\"dataframe\">\n",
       "  <thead>\n",
       "    <tr style=\"text-align: right;\">\n",
       "      <th></th>\n",
       "      <th>Pregnancies</th>\n",
       "      <th>Glucose</th>\n",
       "      <th>BloodPressure</th>\n",
       "      <th>SkinThickness</th>\n",
       "      <th>Insulin</th>\n",
       "      <th>BMI</th>\n",
       "      <th>DiabetesPedigreeFunction</th>\n",
       "      <th>Age</th>\n",
       "      <th>Outcome</th>\n",
       "    </tr>\n",
       "  </thead>\n",
       "  <tbody>\n",
       "    <tr>\n",
       "      <th>3</th>\n",
       "      <td>1</td>\n",
       "      <td>89.0</td>\n",
       "      <td>66.0</td>\n",
       "      <td>23.0</td>\n",
       "      <td>94.0</td>\n",
       "      <td>28.1</td>\n",
       "      <td>0.167</td>\n",
       "      <td>21</td>\n",
       "      <td>0</td>\n",
       "    </tr>\n",
       "    <tr>\n",
       "      <th>4</th>\n",
       "      <td>0</td>\n",
       "      <td>137.0</td>\n",
       "      <td>40.0</td>\n",
       "      <td>35.0</td>\n",
       "      <td>168.0</td>\n",
       "      <td>43.1</td>\n",
       "      <td>2.288</td>\n",
       "      <td>33</td>\n",
       "      <td>1</td>\n",
       "    </tr>\n",
       "    <tr>\n",
       "      <th>6</th>\n",
       "      <td>3</td>\n",
       "      <td>78.0</td>\n",
       "      <td>50.0</td>\n",
       "      <td>32.0</td>\n",
       "      <td>88.0</td>\n",
       "      <td>31.0</td>\n",
       "      <td>0.248</td>\n",
       "      <td>26</td>\n",
       "      <td>1</td>\n",
       "    </tr>\n",
       "    <tr>\n",
       "      <th>8</th>\n",
       "      <td>2</td>\n",
       "      <td>197.0</td>\n",
       "      <td>70.0</td>\n",
       "      <td>45.0</td>\n",
       "      <td>543.0</td>\n",
       "      <td>30.5</td>\n",
       "      <td>0.158</td>\n",
       "      <td>53</td>\n",
       "      <td>1</td>\n",
       "    </tr>\n",
       "    <tr>\n",
       "      <th>13</th>\n",
       "      <td>1</td>\n",
       "      <td>189.0</td>\n",
       "      <td>60.0</td>\n",
       "      <td>23.0</td>\n",
       "      <td>846.0</td>\n",
       "      <td>30.1</td>\n",
       "      <td>0.398</td>\n",
       "      <td>59</td>\n",
       "      <td>1</td>\n",
       "    </tr>\n",
       "  </tbody>\n",
       "</table>\n",
       "</div>"
      ],
      "text/plain": [
       "    Pregnancies  Glucose  BloodPressure  SkinThickness  Insulin   BMI  \\\n",
       "3             1     89.0           66.0           23.0     94.0  28.1   \n",
       "4             0    137.0           40.0           35.0    168.0  43.1   \n",
       "6             3     78.0           50.0           32.0     88.0  31.0   \n",
       "8             2    197.0           70.0           45.0    543.0  30.5   \n",
       "13            1    189.0           60.0           23.0    846.0  30.1   \n",
       "\n",
       "    DiabetesPedigreeFunction  Age  Outcome  \n",
       "3                      0.167   21        0  \n",
       "4                      2.288   33        1  \n",
       "6                      0.248   26        1  \n",
       "8                      0.158   53        1  \n",
       "13                     0.398   59        1  "
      ]
     },
     "execution_count": 459,
     "metadata": {},
     "output_type": "execute_result"
    }
   ],
   "source": [
    "pima_drop_df = pima_nan_df.dropna(axis=0, how=\"any\")\n",
    "pima_drop_df.head()"
   ]
  },
  {
   "cell_type": "markdown",
   "metadata": {},
   "source": [
    "**2.2** "
   ]
  },
  {
   "cell_type": "code",
   "execution_count": 460,
   "metadata": {},
   "outputs": [],
   "source": [
    "#from previous homework\n",
    "def normalize_columns(labels, df, scaler=None):\n",
    "    if scaler is None:\n",
    "        scaler = MinMaxScaler().fit(df.loc[:,labels])\n",
    "        df.loc[:,labels] = scaler.transform(df.loc[:,labels].copy())\n",
    "    else:\n",
    "        df.loc[:,labels] = scaler.transform(df.loc[:,labels].copy())\n",
    "    return df\n",
    "\n",
    "def normalize_dfs(labels, df_train, df_test=None):\n",
    "    scaler = MinMaxScaler().fit(df_train.loc[:,labels]) #fit scaler to training data\n",
    "    df_train = normalize_columns(labels, df_train, scaler) #transform training data\n",
    "    if df_test is None:    \n",
    "        return df_train\n",
    "    else:\n",
    "        df_test = normalize_columns(labels,df_test,scaler) #transform test data by training scaler\n",
    "        return df_train, df_test"
   ]
  },
  {
   "cell_type": "markdown",
   "metadata": {},
   "source": [
    "Discuss why we normalize..."
   ]
  },
  {
   "cell_type": "code",
   "execution_count": 461,
   "metadata": {},
   "outputs": [
    {
     "name": "stderr",
     "output_type": "stream",
     "text": [
      "/anaconda3/lib/python3.6/site-packages/pandas/core/indexing.py:543: SettingWithCopyWarning: \n",
      "A value is trying to be set on a copy of a slice from a DataFrame.\n",
      "Try using .loc[row_indexer,col_indexer] = value instead\n",
      "\n",
      "See the caveats in the documentation: http://pandas.pydata.org/pandas-docs/stable/indexing.html#indexing-view-versus-copy\n",
      "  self.obj[item] = s\n"
     ]
    }
   ],
   "source": [
    "df_train, df_test = train_test_split(pima_drop_df, random_state=9001, test_size=0.25) #split on dropped NaN data\n",
    "targets=[\"Outcome\"]\n",
    "x_cols = pima_df.columns.difference(targets)\n",
    "df_train, df_test = normalize_dfs(x_cols, df_train, df_test) #normalize data"
   ]
  },
  {
   "cell_type": "code",
   "execution_count": 463,
   "metadata": {},
   "outputs": [],
   "source": [
    "x_train, x_test = df_train[x_cols], df_test[x_cols]\n",
    "y_train, y_test = df_train[targets], df_test[targets]"
   ]
  },
  {
   "cell_type": "code",
   "execution_count": 464,
   "metadata": {},
   "outputs": [
    {
     "name": "stderr",
     "output_type": "stream",
     "text": [
      "/anaconda3/lib/python3.6/site-packages/sklearn/utils/validation.py:578: DataConversionWarning: A column-vector y was passed when a 1d array was expected. Please change the shape of y to (n_samples, ), for example using ravel().\n",
      "  y = column_or_1d(y, warn=True)\n"
     ]
    }
   ],
   "source": [
    "#Takes a while to run...\n",
    "model_LR = LogisticRegressionCV(Cs=100000, cv=5, max_iter = 250).fit(x_train, y_train)"
   ]
  },
  {
   "cell_type": "code",
   "execution_count": 465,
   "metadata": {},
   "outputs": [],
   "source": [
    "y_train_pred = model_LR.predict(x_train)\n",
    "y_test_pred = model_LR.predict(x_test)"
   ]
  },
  {
   "cell_type": "code",
   "execution_count": 511,
   "metadata": {},
   "outputs": [
    {
     "name": "stdout",
     "output_type": "stream",
     "text": [
      "The classification accuracy for the logistic regression on the training set is 0.8157\n",
      "The classification accuracy for the logistic regression on the test set is 0.6939\n"
     ]
    }
   ],
   "source": [
    "print(\"The classification accuracy for the logistic regression on the training set is %.4f\"\n",
    "      %accuracy_score(y_train,y_train_pred))\n",
    "print(\"The classification accuracy for the logistic regression on the test set is %.4f\"\n",
    "      %accuracy_score(y_test,y_test_pred))"
   ]
  },
  {
   "cell_type": "code",
   "execution_count": 510,
   "metadata": {},
   "outputs": [
    {
     "name": "stdout",
     "output_type": "stream",
     "text": [
      "Breakdowns of predictions for test set:\n",
      "\n",
      "True positives:   51 False Negatives:   6\n",
      "False positives:  24 True Negatives:   17\n"
     ]
    }
   ],
   "source": [
    "cm2 = confusion_matrix(y_test, y_test_pred)\n",
    "\n",
    "print (\"Breakdowns of predictions for test set:\\n\")\n",
    "print (\"True positives:  {:3d} False Negatives: {:3d}\".format(cm2[0,0], cm2[0,1]) )\n",
    "print (\"False positives: {:3d} True Negatives:  {:3d}\".format(cm2[1,0], cm2[1,1]))"
   ]
  },
  {
   "cell_type": "markdown",
   "metadata": {},
   "source": [
    "The 31% incorrect categorizations in the test set consists of 24 false positives and 6 false negatives. In medical diagnostics, the false negatives are worse than the false postives, because it can lead to missing a fatal illness. The number of false positives is low at 6% of the test set and much lower than the false positives."
   ]
  },
  {
   "cell_type": "markdown",
   "metadata": {},
   "source": [
    "**2.3** Restart with a fresh copy of the whole dataset and impute the missing data via mean imputation.  Split the data 75-25 (use `random_state=9001`) and fit a regularized logistic regression model.  Report the overall classification rate.  "
   ]
  },
  {
   "cell_type": "code",
   "execution_count": 441,
   "metadata": {},
   "outputs": [],
   "source": [
    "df_train, df_test = train_test_split(pima_nan_df, random_state=9001, test_size=0.25) #split on data with NaN\n",
    "imp_mean = Imputer(copy=True, missing_values=np.nan, strategy='mean').fit(df_train) #fit to training data\n",
    "\n",
    "df_train_mean = pd.DataFrame(imp_mean.transform(df_train), columns=df_train.columns, index=df_train.index)\n",
    "df_test_mean = pd.DataFrame(imp_mean.transform(df_test), columns=df_test.columns, index=df_test.index)\n",
    "\n",
    "df_train_mean, df_test_mean = normalize_dfs(x_cols, df_train_mean, df_test_mean) #normalize data\n",
    "\n",
    "x_train_mean, x_test_mean = df_train_mean[x_cols], df_test_mean[x_cols]\n",
    "y_train_mean, y_test_mean = df_train_mean[targets], df_test_mean[targets]"
   ]
  },
  {
   "cell_type": "code",
   "execution_count": 442,
   "metadata": {},
   "outputs": [
    {
     "name": "stderr",
     "output_type": "stream",
     "text": [
      "/anaconda3/lib/python3.6/site-packages/sklearn/utils/validation.py:578: DataConversionWarning: A column-vector y was passed when a 1d array was expected. Please change the shape of y to (n_samples, ), for example using ravel().\n",
      "  y = column_or_1d(y, warn=True)\n"
     ]
    }
   ],
   "source": [
    "#Takes a while to run...\n",
    "model_imp_mean = LogisticRegressionCV(Cs=100000, cv=5, max_iter = 250).fit(x_train_mean, y_train_mean)"
   ]
  },
  {
   "cell_type": "code",
   "execution_count": 443,
   "metadata": {},
   "outputs": [],
   "source": [
    "y_train_mean_pred = model_imp_mean.predict(x_train_mean)\n",
    "y_test_mean_pred = model_imp_mean.predict(x_test_mean)"
   ]
  },
  {
   "cell_type": "code",
   "execution_count": 512,
   "metadata": {},
   "outputs": [
    {
     "name": "stdout",
     "output_type": "stream",
     "text": [
      "The classification accuracy for the logistic regression on the mean imputed training set is 0.7679\n",
      "The classification accuracy for the logistic regression on the mean imputed test set is 0.7592\n"
     ]
    }
   ],
   "source": [
    "print(\"The classification accuracy for the logistic regression on the mean imputed training set is %.4f\"\n",
    "      %accuracy_score(y_train_mean,y_train_mean_pred))\n",
    "print(\"The classification accuracy for the logistic regression on the mean imputed test set is %.4f\"\n",
    "      %accuracy_score(y_test_mean,y_test_mean_pred))"
   ]
  },
  {
   "cell_type": "code",
   "execution_count": 513,
   "metadata": {},
   "outputs": [
    {
     "name": "stdout",
     "output_type": "stream",
     "text": [
      "Breakdowns of predictions for test set:\n",
      "\n",
      "True positives:  106 False Negatives:  27\n",
      "False positives:  19 True Negatives:   39\n"
     ]
    }
   ],
   "source": [
    "cm3 = confusion_matrix(y_test_mean, y_test_mean_pred)\n",
    "\n",
    "print (\"Breakdowns of predictions for test set:\\n\")\n",
    "print (\"True positives:  {:3d} False Negatives: {:3d}\".format(cm3[0,0], cm3[0,1]) )\n",
    "print (\"False positives: {:3d} True Negatives:  {:3d}\".format(cm3[1,0], cm3[1,1]))"
   ]
  },
  {
   "cell_type": "markdown",
   "metadata": {},
   "source": [
    "The 24% incorrect categorizations in the test set consists of 19 false positives and 27 false negatives using the ean imputation approach. The number of false positives in this case is higher than the false postives. The percentage of false postives in the test set is 14% and much higher than in 2.2 where we dropped rows with NaN values."
   ]
  },
  {
   "cell_type": "markdown",
   "metadata": {},
   "source": [
    "**2.4** "
   ]
  },
  {
   "cell_type": "code",
   "execution_count": 529,
   "metadata": {},
   "outputs": [
    {
     "name": "stdout",
     "output_type": "stream",
     "text": [
      "Showing missing values with their imputed values based on linear regression…\n",
      "\n",
      "NaN Values for response variable Glucose :\n",
      "75    NaN\n",
      "182   NaN\n",
      "342   NaN\n",
      "349   NaN\n",
      "502   NaN\n",
      "Name: Glucose, dtype: float64\n",
      "\n",
      "Replaced by imputed values using linear regression model:\n",
      "        Glucose  Pregnancies  DiabetesPedigreeFunction  Age  Outcome\n",
      "75   107.304577            1                     0.140   22        0\n",
      "182  106.976328            1                     0.299   21        0\n",
      "342  107.918806            1                     0.389   22        0\n",
      "349  144.864564            5                     0.346   37        1\n",
      "502  147.927244            6                     0.727   41        1\n",
      "\n",
      "\n",
      "NaN Values for response variable BloodPressure :\n",
      "7     NaN\n",
      "15    NaN\n",
      "49    NaN\n",
      "60    NaN\n",
      "78    NaN\n",
      "81    NaN\n",
      "172   NaN\n",
      "193   NaN\n",
      "222   NaN\n",
      "261   NaN\n",
      "Name: BloodPressure, dtype: float64\n",
      "…\n",
      "\n",
      "Replaced by imputed values using linear regression model:\n",
      "     BloodPressure  Pregnancies  DiabetesPedigreeFunction  Age  Outcome\n",
      "7        70.136737           10                     0.134   29        0\n",
      "15       73.208404            7                     0.484   32        1\n",
      "49       68.071461            7                     0.305   24        0\n",
      "60       66.967798            2                     0.304   21        0\n",
      "78       71.560612            0                     0.270   26        1\n",
      "81       67.735801            2                     0.102   22        0\n",
      "172      67.203590            2                     0.773   25        0\n",
      "193      75.672756           11                     0.578   40        1\n",
      "222      72.436365            7                     0.209   37        0\n",
      "261      70.878142            3                     0.761   27        1\n",
      "…\n",
      "\n",
      "\n",
      "NaN Values for response variable SkinThickness :\n",
      "2    NaN\n",
      "5    NaN\n",
      "7    NaN\n",
      "9    NaN\n",
      "10   NaN\n",
      "11   NaN\n",
      "12   NaN\n",
      "15   NaN\n",
      "17   NaN\n",
      "21   NaN\n",
      "Name: SkinThickness, dtype: float64\n",
      "…\n",
      "\n",
      "Replaced by imputed values using linear regression model:\n",
      "    SkinThickness  Pregnancies  DiabetesPedigreeFunction  Age  Outcome\n",
      "2       32.265831            8                     0.672   32        1\n",
      "5       26.303202            5                     0.201   30        0\n",
      "7       25.403672           10                     0.134   29        0\n",
      "9       33.329766            8                     0.232   54        1\n",
      "10      26.383160            4                     0.191   30        0\n",
      "11      31.823742           10                     0.537   34        1\n",
      "12      32.909023           10                     1.441   57        0\n",
      "15      31.759328            7                     0.484   32        1\n",
      "17      30.887286            7                     0.254   31        1\n",
      "21      28.865702            8                     0.388   50        0\n",
      "…\n",
      "\n",
      "\n",
      "NaN Values for response variable Insulin :\n",
      "0    NaN\n",
      "1    NaN\n",
      "2    NaN\n",
      "5    NaN\n",
      "7    NaN\n",
      "9    NaN\n",
      "10   NaN\n",
      "11   NaN\n",
      "12   NaN\n",
      "15   NaN\n",
      "Name: Insulin, dtype: float64\n",
      "…\n",
      "\n",
      "Replaced by imputed values using linear regression model:\n",
      "       Insulin  Pregnancies  DiabetesPedigreeFunction  Age  Outcome\n",
      "0   234.450667            6                     0.627   50        1\n",
      "1   142.894001            1                     0.351   31        0\n",
      "2   181.260681            8                     0.672   32        1\n",
      "5   117.814174            5                     0.201   30        0\n",
      "7    89.871147           10                     0.134   29        0\n",
      "9   225.677588            8                     0.232   54        1\n",
      "10  122.365401            4                     0.191   30        0\n",
      "11  173.536907           10                     0.537   34        1\n",
      "12  189.573633           10                     1.441   57        0\n",
      "15  181.695896            7                     0.484   32        1\n",
      "…\n",
      "\n",
      "\n",
      "NaN Values for response variable BMI :\n",
      "9     NaN\n",
      "49    NaN\n",
      "60    NaN\n",
      "81    NaN\n",
      "145   NaN\n",
      "371   NaN\n",
      "426   NaN\n",
      "494   NaN\n",
      "522   NaN\n",
      "684   NaN\n",
      "Name: BMI, dtype: float64\n",
      "…\n",
      "\n",
      "Replaced by imputed values using linear regression model:\n",
      "           BMI  Pregnancies  DiabetesPedigreeFunction  Age  Outcome\n",
      "9    34.706786            8                     0.232   54        1\n",
      "49   30.006650            7                     0.305   24        0\n",
      "60   31.336810            2                     0.304   21        0\n",
      "81   30.972906            2                     0.102   22        0\n",
      "145  32.456992            0                     0.572   21        0\n",
      "371  34.782259            0                     1.731   21        0\n",
      "426  31.988461            0                     0.256   25        0\n",
      "494  30.826107            3                     0.174   22        0\n",
      "522  30.147898            6                     0.189   26        0\n",
      "684  33.122564            5                     0.640   69        0\n",
      "…\n",
      "\n",
      "\n"
     ]
    },
    {
     "name": "stderr",
     "output_type": "stream",
     "text": [
      "/anaconda3/lib/python3.6/site-packages/sklearn/utils/validation.py:578: DataConversionWarning: A column-vector y was passed when a 1d array was expected. Please change the shape of y to (n_samples, ), for example using ravel().\n",
      "  y = column_or_1d(y, warn=True)\n"
     ]
    }
   ],
   "source": [
    "# Imputation approach: replace missing values based on a linear regression using other features in the dataset\n",
    "# many rows have several NaN values which makes it impossible to use rows with NaN values as predictors\n",
    "# therefore only the 'clean' columns (no NaN values) are used for regression fit and prediction\n",
    "\n",
    "# Steps:\n",
    "# for the regression fit we use a model copy where all rows with any NaN value are dropped\n",
    "# for each column with Nan values:\n",
    "#    make a regression function with that column as y and all clean columns as X (except response variable)\n",
    "#    for all missing values predict the value using the regression model.predict()\n",
    "#    replace all NaNs in original dataframe with those values\n",
    "\n",
    "# initial clean-up of a copy of the data as before\n",
    "pima_model_df = pima_df.copy()\n",
    "clean_df(pima_model_df,[\"Glucose\",\"BloodPressure\",\"SkinThickness\",\"Insulin\",\"BMI\"], [0], \"Outcome\")\n",
    "\n",
    "# make copy with all rows with NaN dropped to be used for regression fit\n",
    "pima_model_drop_df = pima_drop_df.copy()\n",
    "\n",
    "# define columns with NaN values and clean columns\n",
    "columns_with_NaN = [\"Glucose\",\"BloodPressure\",\"SkinThickness\",\"Insulin\",\"BMI\"]\n",
    "clean_columns = ['Pregnancies', 'DiabetesPedigreeFunction', 'Age', 'Outcome']\n",
    "\n",
    "\n",
    "print (\"Showing missing values with their imputed values based on linear regression…\\n\")\n",
    "for c in columns_with_NaN:\n",
    "    # for all columns with NaN values\n",
    "    \n",
    "    # train regression on model with clean columns as X and column c as y\n",
    "    X_train = pima_model_drop_df[clean_columns]\n",
    "    # print (X_train.head())\n",
    "\n",
    "    y_train = pima_model_drop_df[c]\n",
    "    # print (y_train.head())\n",
    "\n",
    "    #create linear regression model\n",
    "    regr = LinearRegression()\n",
    "    regr.fit(X_train, y_train)\n",
    "\n",
    "    # use this regression model to substitute missing values using regression model based imputation\n",
    "    \n",
    "    # find indexes with NaN value in column c\n",
    "    indexes_to_replace = pima_model_df.loc[pima_model_df[c].isnull(), c].index.tolist()\n",
    "    print (\"NaN Values for response variable\", c, \":\")\n",
    "    print (pima_model_df.loc[indexes_to_replace,c][:10]) # show first 10 rows of NaN values\n",
    "    if len(indexes_to_replace) >=10:\n",
    "        print (\"…\")\n",
    "    \n",
    "    # replace NaN values in column c for those indices with imputed value using regression\n",
    "    print(\"\\nReplaced by imputed values using linear regression model:\")\n",
    "    imputed_values = pd.DataFrame(np.array(regr.predict(pima_model_df.loc[indexes_to_replace, clean_columns]) ),\n",
    "                                 index=indexes_to_replace, columns=[c])\n",
    "    pima_model_df.loc[indexes_to_replace, c] = imputed_values\n",
    "    display_cols = [c] + clean_columns\n",
    "    print(pima_model_df.loc[indexes_to_replace, display_cols][:10])\n",
    "    if len(indexes_to_replace) >=10:\n",
    "        print (\"…\")\n",
    "    print(\"\\n\")\n",
    "\n",
    "# Split the new data set and fit a regularized logistic regression\n",
    "df_train, df_test = train_test_split(pima_model_df, random_state=9001, test_size=0.25) #split on data with NaN\n",
    "x_train, x_test = df_train[x_cols], df_test[x_cols]\n",
    "y_train, y_test = df_train[targets], df_test[targets]\n",
    "model_replaced_LR = LogisticRegressionCV(Cs=100000, cv=5, max_iter = 250).fit(x_train, y_train)"
   ]
  },
  {
   "cell_type": "code",
   "execution_count": 530,
   "metadata": {},
   "outputs": [
    {
     "name": "stdout",
     "output_type": "stream",
     "text": [
      "The classification accuracy for the logistic regression on the training set is 0.7871\n",
      "The classification accuracy for the logistic regression on the test set is 0.7853\n"
     ]
    }
   ],
   "source": [
    "# Testing Accuracy\n",
    "y_train_pred = model_replaced_LR.predict(x_train)\n",
    "y_test_pred = model_replaced_LR.predict(x_test)\n",
    "\n",
    "print(\"The classification accuracy for the logistic regression on the training set is %.4f\"\n",
    "      %accuracy_score(y_train,y_train_pred))\n",
    "print(\"The classification accuracy for the logistic regression on the test set is %.4f\"\n",
    "      %accuracy_score(y_test,y_test_pred))"
   ]
  },
  {
   "cell_type": "code",
   "execution_count": 531,
   "metadata": {},
   "outputs": [
    {
     "name": "stdout",
     "output_type": "stream",
     "text": [
      "Breakdowns of predictions for test set:\n",
      "\n",
      "True positives:  110 False Negatives:  23\n",
      "False positives:  18 True Negatives:   40\n"
     ]
    }
   ],
   "source": [
    "cm4 = confusion_matrix(y_test, y_test_pred)\n",
    "\n",
    "print (\"Breakdowns of predictions for test set:\\n\")\n",
    "print (\"True positives:  {:3d} False Negatives: {:3d}\".format(cm4[0,0], cm4[0,1]) )\n",
    "print (\"False positives: {:3d} True Negatives:  {:3d}\".format(cm4[1,0], cm4[1,1]))"
   ]
  },
  {
   "cell_type": "markdown",
   "metadata": {},
   "source": [
    "**2.5** "
   ]
  },
  {
   "cell_type": "markdown",
   "metadata": {},
   "source": [
    "The accuracy of the mean imputation and the linear regression imputation models for the test set are the same. The small exception being that linear regression imputation had one less false negative, a minor improvement over the mean imputation. Using the value regressed from three other predictors did not improve the result much over just using the mean, so the extra computational complexity associated with the LR does not seem worth it. The LT approach would only work if there was correlation between teh predictors.\n",
    "\n",
    "However there is a significant 7% improvement in accuracy on the test set when using mean imputation (76%) instead of dropping rows with missing values (69%). The improvement is likely due to the fact that the training set is much bigger, because no rows are dropped. The relatively small additonal computational complexity to calculate the mean seems worth it. However there is one caveat. The models with imputation both have significantly more false negatives, which in the context of a medical test is a big drawback, even though the number of false positives is so much lower. The medical consequences of false negatives are just more serious."
   ]
  },
  {
   "cell_type": "markdown",
   "metadata": {},
   "source": [
    "**2.6** "
   ]
  },
  {
   "cell_type": "code",
   "execution_count": null,
   "metadata": {},
   "outputs": [],
   "source": [
    "# Compare coefficients\n",
    "\n",
    "print (\"Coefficients                  DROP       MEAN       LR\")\n",
    "for i, x_col in enumerate(x_cols):\n",
    "    print (\"{:24} {:+10.2f}\".format(x_col,model_LR.coef_[0, i]), \\\n",
    "          \"{:+10.2f}\".format(model_imp_mean.coef_[0, i]), \\\n",
    "          \"{:+10.2f}\".format(model_replaced_LR.coef_[0, i]) ) "
   ]
  },
  {
   "cell_type": "markdown",
   "metadata": {},
   "source": [
    "The coefficient values for the mean imputation and the linear regression imputation are very similar. The coefficients for the model where rows with missing values where dropped have significantly different values, especially for Age and Glucose. These coefficients are near zero in the models with mean and LR imputed values. It is unexpected that the Age coefficient changed so much, because no imputation was done on this predictor. The change in coefficient is likely due to the larger training set."
   ]
  }
 ],
 "metadata": {
  "anaconda-cloud": {},
  "kernelspec": {
   "display_name": "Python 3",
   "language": "python",
   "name": "python3"
  },
  "language_info": {
   "codemirror_mode": {
    "name": "ipython",
    "version": 3
   },
   "file_extension": ".py",
   "mimetype": "text/x-python",
   "name": "python",
   "nbconvert_exporter": "python",
   "pygments_lexer": "ipython3",
   "version": "3.6.5"
  }
 },
 "nbformat": 4,
 "nbformat_minor": 1
}
